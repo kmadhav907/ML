{
  "nbformat": 4,
  "nbformat_minor": 0,
  "metadata": {
    "kernelspec": {
      "display_name": "Python 3",
      "language": "python",
      "name": "python3"
    },
    "language_info": {
      "codemirror_mode": {
        "name": "ipython",
        "version": 3
      },
      "file_extension": ".py",
      "mimetype": "text/x-python",
      "name": "python",
      "nbconvert_exporter": "python",
      "pygments_lexer": "ipython3",
      "version": "3.7.3"
    },
    "colab": {
      "name": "Number_prediction.ipynb",
      "provenance": []
    }
  },
  "cells": [
    {
      "cell_type": "markdown",
      "metadata": {
        "id": "sB83pETvdbJ7",
        "colab_type": "text"
      },
      "source": [
        "# Introduction to Deep Learning"
      ]
    },
    {
      "cell_type": "markdown",
      "metadata": {
        "id": "jw_sE-dpdbJ-",
        "colab_type": "text"
      },
      "source": [
        "1. In this notebook we will be creating a number prediction Deep learning model under Keras framework.\n",
        "2. Keras is a simple and easy framework and it is the framework to get started with Deep Learning. Keras is built on top of tensorflow(tensorflow is a Deep Learning framework developed by google) or other framework.\n",
        "3. So, Here we use mnist dataset and we will train our model"
      ]
    },
    {
      "cell_type": "code",
      "metadata": {
        "id": "F-SOZ_fCdbKA",
        "colab_type": "code",
        "colab": {
          "base_uri": "https://localhost:8080/",
          "height": 51
        },
        "outputId": "721f4629-db61-466e-f1b9-9d0e32bad79c"
      },
      "source": [
        "# importing the tensorflow \n",
        "import tensorflow as tf\n",
        "mnist = tf.keras.datasets.mnist\n",
        "(x_train,y_train),(x_test,y_test)=mnist.load_data()"
      ],
      "execution_count": 1,
      "outputs": [
        {
          "output_type": "stream",
          "text": [
            "Downloading data from https://storage.googleapis.com/tensorflow/tf-keras-datasets/mnist.npz\n",
            "11493376/11490434 [==============================] - 0s 0us/step\n"
          ],
          "name": "stdout"
        }
      ]
    },
    {
      "cell_type": "code",
      "metadata": {
        "id": "8pIu_5BYdbKI",
        "colab_type": "code",
        "colab": {
          "base_uri": "https://localhost:8080/",
          "height": 34
        },
        "outputId": "783eb38f-c9f2-4dc1-9169-e9a1bf1b2ab8"
      },
      "source": [
        "#Normalising the data\n",
        "x_train = tf.keras.utils.normalize(x_train,axis=1)\n",
        "x_test = tf.keras.utils.normalize(x_test,axis=1)\n",
        "x_train.shape"
      ],
      "execution_count": 2,
      "outputs": [
        {
          "output_type": "execute_result",
          "data": {
            "text/plain": [
              "(60000, 28, 28)"
            ]
          },
          "metadata": {
            "tags": []
          },
          "execution_count": 2
        }
      ]
    },
    {
      "cell_type": "code",
      "metadata": {
        "id": "YIbaQYq7dbKR",
        "colab_type": "code",
        "colab": {
          "base_uri": "https://localhost:8080/",
          "height": 136
        },
        "outputId": "49d452cb-a65e-4ca8-c697-944572e0ebe4"
      },
      "source": [
        "# define the sequential model\n",
        "model = tf.keras.models.Sequential()\n",
        "# input layer should be flattened\n",
        "model.add(tf.keras.layers.Flatten(input_shape=x_train.shape[1:])) \n",
        "# Hiddent layer (128 neuron)\n",
        "model.add(tf.keras.layers.Dense(128,activation = tf.nn.relu))\n",
        "model.add(tf.keras.layers.Dense(128,activation = tf.nn.relu))\n",
        "model.add(tf.keras.layers.Dense(10,activation = tf.nn.softmax))\n",
        "\n",
        "#Compile\n",
        "model.compile(optimizer ='adam',\n",
        "             loss = 'sparse_categorical_crossentropy',\n",
        "             metrics = ['accuracy'])\n",
        "\n",
        "#training\n",
        "\n",
        "model.fit(x_train,y_train,epochs=3)"
      ],
      "execution_count": 3,
      "outputs": [
        {
          "output_type": "stream",
          "text": [
            "Epoch 1/3\n",
            "1875/1875 [==============================] - 4s 2ms/step - loss: 0.2644 - accuracy: 0.9224\n",
            "Epoch 2/3\n",
            "1875/1875 [==============================] - 4s 2ms/step - loss: 0.1105 - accuracy: 0.9659\n",
            "Epoch 3/3\n",
            "1875/1875 [==============================] - 4s 2ms/step - loss: 0.0740 - accuracy: 0.9771\n"
          ],
          "name": "stdout"
        },
        {
          "output_type": "execute_result",
          "data": {
            "text/plain": [
              "<tensorflow.python.keras.callbacks.History at 0x7f5dca9a2d30>"
            ]
          },
          "metadata": {
            "tags": []
          },
          "execution_count": 3
        }
      ]
    },
    {
      "cell_type": "code",
      "metadata": {
        "id": "-5-YIgjLdbKV",
        "colab_type": "code",
        "colab": {
          "base_uri": "https://localhost:8080/",
          "height": 34
        },
        "outputId": "62349931-3cb9-4792-babe-bf1fac3dabc6"
      },
      "source": [
        "# Testing our model\n",
        "val_loss,val_acu = model.evaluate(x_test,y_test)"
      ],
      "execution_count": 4,
      "outputs": [
        {
          "output_type": "stream",
          "text": [
            "313/313 [==============================] - 0s 1ms/step - loss: 0.1059 - accuracy: 0.9681\n"
          ],
          "name": "stdout"
        }
      ]
    },
    {
      "cell_type": "code",
      "metadata": {
        "id": "R1I0ybfMdbKY",
        "colab_type": "code",
        "colab": {}
      },
      "source": [
        "#Saving our model\n",
        "model.save(\"./my-first-model.h5\")"
      ],
      "execution_count": 0,
      "outputs": []
    },
    {
      "cell_type": "code",
      "metadata": {
        "scrolled": true,
        "id": "Lxyk-R_odbKc",
        "colab_type": "code",
        "colab": {}
      },
      "source": [
        "#creating a new model from saved model\n",
        "new_model = tf.keras.models.load_model(\"my-first-model.h5\")"
      ],
      "execution_count": 0,
      "outputs": []
    },
    {
      "cell_type": "code",
      "metadata": {
        "id": "voKfk_g2dbKh",
        "colab_type": "code",
        "colab": {
          "base_uri": "https://localhost:8080/",
          "height": 34
        },
        "outputId": "a1c6e169-9666-4759-d27c-327fc2f4e990"
      },
      "source": [
        "# testing dataset's shape\n",
        "x_test.shape"
      ],
      "execution_count": 7,
      "outputs": [
        {
          "output_type": "execute_result",
          "data": {
            "text/plain": [
              "(10000, 28, 28)"
            ]
          },
          "metadata": {
            "tags": []
          },
          "execution_count": 7
        }
      ]
    },
    {
      "cell_type": "code",
      "metadata": {
        "id": "2Hpw8umydbKm",
        "colab_type": "code",
        "colab": {}
      },
      "source": [
        "# Now predicting the output for new test set\n",
        "prediction = new_model.predict([x_test])"
      ],
      "execution_count": 0,
      "outputs": []
    },
    {
      "cell_type": "code",
      "metadata": {
        "id": "2OIGpTNedbKq",
        "colab_type": "code",
        "colab": {
          "base_uri": "https://localhost:8080/",
          "height": 238
        },
        "outputId": "d8662b95-a6eb-4d2a-a640-4f2d7e04602e"
      },
      "source": [
        "print(prediction)"
      ],
      "execution_count": 9,
      "outputs": [
        {
          "output_type": "stream",
          "text": [
            "[[1.0611258e-08 3.5436869e-08 2.2470267e-06 ... 9.9999297e-01\n",
            "  1.3088691e-08 4.4902151e-07]\n",
            " [1.2283277e-09 6.0718269e-03 9.9343383e-01 ... 2.4138515e-08\n",
            "  3.6552134e-05 2.4794719e-10]\n",
            " [4.0247534e-07 9.9941242e-01 2.4502665e-06 ... 4.5135195e-05\n",
            "  4.3249677e-04 2.8375827e-05]\n",
            " ...\n",
            " [6.5050392e-09 1.5153987e-07 4.1611866e-08 ... 2.9843342e-05\n",
            "  2.1159606e-06 5.5482681e-04]\n",
            " [5.9475806e-08 5.1412464e-08 1.8763888e-09 ... 2.6260720e-08\n",
            "  1.9975771e-05 1.0251591e-08]\n",
            " [2.8681962e-08 2.9132192e-08 9.8116672e-08 ... 3.2436636e-12\n",
            "  1.9864723e-08 1.4922311e-10]]\n"
          ],
          "name": "stdout"
        }
      ]
    },
    {
      "cell_type": "code",
      "metadata": {
        "id": "XlW-DTTLdbKu",
        "colab_type": "code",
        "colab": {
          "base_uri": "https://localhost:8080/",
          "height": 282
        },
        "outputId": "ff8cf2bc-e6c4-4eae-be42-dbf48dcc7d50"
      },
      "source": [
        "# Checking our prediction\n",
        "# you can change the value of i and try for different input image and it will give the output\n",
        "import numpy as np\n",
        "import matplotlib.pyplot as plt\n",
        "i=1   # give different value for i and run the cell (Shift + enter)\n",
        "plt.imshow(x_test[i],cmap=\"gray\")\n",
        "plt.show()\n",
        "print(np.argmax(prediction[i]))\n"
      ],
      "execution_count": 10,
      "outputs": [
        {
          "output_type": "display_data",
          "data": {
            "image/png": "[encoded data removed]",
            "text/plain": [
              "<Figure size 432x288 with 1 Axes>"
            ]
          },
          "metadata": {
            "tags": [],
            "needs_background": "light"
          }
        },
        {
          "output_type": "stream",
          "text": [
            "2\n"
          ],
          "name": "stdout"
        }
      ]
    },
    {
      "cell_type": "code",
      "metadata": {
        "id": "FH8vZ3tldbK0",
        "colab_type": "code",
        "colab": {}
      },
      "source": [
        ""
      ],
      "execution_count": 0,
      "outputs": []
    }
  ]
}