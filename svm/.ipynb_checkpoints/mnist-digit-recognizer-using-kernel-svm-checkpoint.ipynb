{
 "cells": [
  {
   "cell_type": "markdown",
   "metadata": {
    "_uuid": "0c9b95e6f21f27dd99aa8b67b08d8b9799850923"
   },
   "source": [
    "# MNIST Digit Classification using Kernel SVM  \n",
    "\n",
    "\n",
    "\n"
   ]
  },
  {
   "cell_type": "markdown",
   "metadata": {
    "_uuid": "22e9a1e78bb2e77c86c9ff87e4b43ad04b4a23f3"
   },
   "source": [
    "**Dataset:**  \n",
    "* ../input/  \n",
    "       |_ train.csv  \n",
    "       |_ test.csv  \n",
    "       |_ sample_submission.csv"
   ]
  },
  {
   "cell_type": "markdown",
   "metadata": {
    "_uuid": "54ce8c9fed15b6f0839e71ea15e2dba515c756c9"
   },
   "source": [
    "## 1. Prepare our Classification Model"
   ]
  },
  {
   "cell_type": "markdown",
   "metadata": {
    "_uuid": "421fd3c0f44f1d263cd7034eb82d6002c317a486"
   },
   "source": [
    "### Import numpy and pandas\n"
   ]
  },
  {
   "cell_type": "code",
   "execution_count": 1,
   "metadata": {
    "_cell_guid": "b1076dfc-b9ad-4769-8c92-a6c4dae69d19",
    "_uuid": "8f2839f25d086af736a60e9eeb907d3b93b6e0e5"
   },
   "outputs": [],
   "source": [
    "# This Python 3 environment comes with many helpful analytics libraries installed\n",
    "# It is defined by the kaggle/python docker image: https://github.com/kaggle/docker-python\n",
    "# For example, here's several helpful packages to load in \n",
    "\n",
    "import numpy as np # linear algebra\n",
    "import pandas as pd # data processing, CSV file I/O (e.g. pd.read_csv)\n",
    "\n",
    "# Input data files are available in the \"../input/\" directory.\n",
    "# For example, running this (by clicking run or pressing Shift+Enter) will list the files in the input directory\n",
    "\n",
    "import os\n",
    "\n",
    "\n",
    "# Any results you write to the current directory are saved as output."
   ]
  },
  {
   "cell_type": "markdown",
   "metadata": {
    "_uuid": "74a30e138a6c56b4d7a7808a3bfff52f6e77a682"
   },
   "source": [
    "### Import Visualization Libraries"
   ]
  },
  {
   "cell_type": "code",
   "execution_count": 2,
   "metadata": {
    "_uuid": "f74e3a5a758987eaf7b6222c9ff764d92e1de722"
   },
   "outputs": [],
   "source": [
    "import matplotlib.pyplot as plt\n",
    "import seaborn as sns\n",
    "%matplotlib inline"
   ]
  },
  {
   "cell_type": "markdown",
   "metadata": {
    "_uuid": "7e3a62b44a950898207557df2086403de0e30196"
   },
   "source": [
    "### Import train and test datasets"
   ]
  },
  {
   "cell_type": "code",
   "execution_count": 3,
   "metadata": {
    "_uuid": "5e98088595ede641b30d8f11a7915a64e2e1313e"
   },
   "outputs": [],
   "source": [
    "train = pd.read_csv('./train.csv')\n",
    "test = pd.read_csv('./test.csv')"
   ]
  },
  {
   "cell_type": "markdown",
   "metadata": {
    "_uuid": "deef9e27a4d9ac9f0fcfa63deefceed683210da7"
   },
   "source": [
    "### Extract Features(X) and Labels(y) from datasets as Numpy Array"
   ]
  },
  {
   "cell_type": "code",
   "execution_count": 4,
   "metadata": {
    "_uuid": "383b6188db5ea9f7575d4cc8d7d32a2f0713d208"
   },
   "outputs": [],
   "source": [
    "X = train.iloc[:,1:].values\n",
    "y = train.iloc[:,0].values\n",
    "\n",
    "test = test.iloc[:,:].values"
   ]
  },
  {
   "cell_type": "code",
   "execution_count": 5,
   "metadata": {},
   "outputs": [
    {
     "name": "stdout",
     "output_type": "stream",
     "text": [
      "[[0 0 0 ... 0 0 0]\n",
      " [0 0 0 ... 0 0 0]\n",
      " [0 0 0 ... 0 0 0]\n",
      " ...\n",
      " [0 0 0 ... 0 0 0]\n",
      " [0 0 0 ... 0 0 0]\n",
      " [0 0 0 ... 0 0 0]]\n",
      "[1 0 1 ... 7 6 9]\n"
     ]
    }
   ],
   "source": [
    "print(X)\n",
    "print(y)"
   ]
  },
  {
   "cell_type": "markdown",
   "metadata": {
    "_uuid": "167a20f7e089b2daeb6cabf8501f0bf9bea5ec7d"
   },
   "source": [
    "### Check for Missing Data (NaN)"
   ]
  },
  {
   "cell_type": "code",
   "execution_count": 6,
   "metadata": {
    "_uuid": "f5fbd8dcb747f22adb87423698ed9843c5dedfaf"
   },
   "outputs": [
    {
     "data": {
      "text/plain": [
       "array([False])"
      ]
     },
     "execution_count": 6,
     "metadata": {},
     "output_type": "execute_result"
    }
   ],
   "source": [
    "np.unique(np.isnan(X))"
   ]
  },
  {
   "cell_type": "markdown",
   "metadata": {
    "_uuid": "58cb42243d49ad3453c3a284622fa7857c60a1ee"
   },
   "source": [
    "### Split Train data into Training and Validation sets"
   ]
  },
  {
   "cell_type": "code",
   "execution_count": 7,
   "metadata": {
    "_uuid": "ebac9ad1e529a2bd5e097ead59e62630de80e546"
   },
   "outputs": [],
   "source": [
    "from sklearn.model_selection import train_test_split\n",
    "X_train, X_test, y_train, y_test = train_test_split(X, y, test_size = 0.25, random_state = 0)"
   ]
  },
  {
   "cell_type": "markdown",
   "metadata": {
    "_uuid": "4c04a59497397d1e07b0838a9e1e12cd5eb524cd"
   },
   "source": [
    "### Visualize the distribution of Training Set Labels  \n",
    "This step is to check if there exist any biased or insufficient data for any class."
   ]
  },
  {
   "cell_type": "code",
   "execution_count": 8,
   "metadata": {
    "_uuid": "28a1971afc7a0c47a2013356bab1011cb555d29e"
   },
   "outputs": [
    {
     "data": {
      "text/plain": [
       "<matplotlib.axes._subplots.AxesSubplot at 0x2acd50096c8>"
      ]
     },
     "execution_count": 8,
     "metadata": {},
     "output_type": "execute_result"
    },
    {
     "data": {
      "image/png": "[encoded data removed]",
      "text/plain": [
       "<Figure size 432x288 with 1 Axes>"
      ]
     },
     "metadata": {
      "needs_background": "light"
     },
     "output_type": "display_data"
    }
   ],
   "source": [
    "sns.countplot(y_train)"
   ]
  },
  {
   "cell_type": "markdown",
   "metadata": {
    "_uuid": "130f9a26db89f6e6d962edf9f09a78098571191c"
   },
   "source": [
    "### Standardize the data\n",
    "This step is to transform the data such that its distribution will have a mean value 0 and standard deviation of 1.  \n",
    "Given the distribution of the data, each value in the dataset will have the sample mean value subtracted, and then divided by the standard deviation of the whole dataset."
   ]
  },
  {
   "cell_type": "code",
   "execution_count": 9,
   "metadata": {
    "_uuid": "4b37778eac6f01cef1857824c168b04c2960b274",
    "scrolled": true
   },
   "outputs": [],
   "source": [
    "from sklearn.preprocessing import StandardScaler\n",
    "sc_X = StandardScaler()\n",
    "X_train = sc_X.fit_transform(X_train)\n",
    "X_test = sc_X.transform(X_test)\n",
    "sc_test = sc_X.transform(test)"
   ]
  },
  {
   "cell_type": "markdown",
   "metadata": {
    "_uuid": "1392f8a37865c6eb0b6fe8bb1757c7590583d02d"
   },
   "source": [
    "## 1.1 Fit the Support Vector Classifier to the Training data (Train our Model) \n",
    "Here I've used Polynomial Kernel. Feel free to use any other kernel and play with other parameters."
   ]
  },
  {
   "cell_type": "code",
   "execution_count": null,
   "metadata": {
    "_uuid": "892b9ca5334635c2ba3179e104d381c1b4a0ba56",
    "scrolled": false
   },
   "outputs": [
    {
     "name": "stdout",
     "output_type": "stream",
     "text": [
      "SVM Classifier with gamma = 0.9; Kernel = Polynomial\n"
     ]
    }
   ],
   "source": [
    "from sklearn.svm import SVC\n",
    "print('SVM Classifier with gamma = 0.9; Kernel = Polynomial')\n",
    "classifier = SVC(gamma=0.1, kernel='poly', random_state = 0)\n",
    "classifier.fit(X_train,y_train)"
   ]
  },
  {
   "cell_type": "markdown",
   "metadata": {
    "_uuid": "51378c4ba655a2c06304466fac43d550d89f91cb"
   },
   "source": [
    "### Predict the labels with Validation Data"
   ]
  },
  {
   "cell_type": "code",
   "execution_count": null,
   "metadata": {
    "_uuid": "585adb028511f2917a087b1f1696c14c8440914f"
   },
   "outputs": [],
   "source": [
    "y_pred = classifier.predict(X_test)"
   ]
  },
  {
   "cell_type": "markdown",
   "metadata": {
    "_uuid": "a5e7751173d40a22a5a4ff8f748a2a73cd8cbbf1"
   },
   "source": [
    "## 1.2 Performance Evaluation  \n",
    "### Calculate the Model Accuracy and Confusion Matrix"
   ]
  },
  {
   "cell_type": "code",
   "execution_count": null,
   "metadata": {
    "_uuid": "bcf3d2446d68a69d35b651bfbe157249855c8462",
    "scrolled": true
   },
   "outputs": [],
   "source": [
    "from sklearn.metrics import accuracy_score,confusion_matrix\n",
    "model_acc = classifier.score(X_test, y_test)\n",
    "test_acc = accuracy_score(y_test, y_pred)\n",
    "conf_mat = confusion_matrix(y_test,y_pred)"
   ]
  },
  {
   "cell_type": "code",
   "execution_count": null,
   "metadata": {
    "_uuid": "eff9d8d4cb1890bc3f5add45f2a55010ef5985ba"
   },
   "outputs": [],
   "source": [
    "print('\\nSVM Trained Classifier Accuracy: ', model_acc)\n",
    "print('\\nPredicted Values: ',y_pred)\n",
    "print('\\nAccuracy of Classifier on Validation Images: ',test_acc)\n",
    "print('\\nConfusion Matrix: \\n',conf_mat)"
   ]
  },
  {
   "cell_type": "markdown",
   "metadata": {
    "_uuid": "6000661795cd82e5f536506b1d39b2023be60b80"
   },
   "source": [
    "### Plot the Confusion Matrix with matplotlib.pyplot"
   ]
  },
  {
   "cell_type": "code",
   "execution_count": null,
   "metadata": {
    "_uuid": "7fad8319b50277f095e8875818796c275129eec3"
   },
   "outputs": [],
   "source": [
    "plt.matshow(conf_mat)\n",
    "plt.title('Confusion Matrix for Validation Data')\n",
    "plt.colorbar()\n",
    "plt.ylabel('True label')\n",
    "plt.xlabel('Predicted label')\n",
    "plt.show()"
   ]
  },
  {
   "cell_type": "code",
   "execution_count": null,
   "metadata": {},
   "outputs": [],
   "source": [
    "sc_test.shape"
   ]
  },
  {
   "cell_type": "markdown",
   "metadata": {
    "_uuid": "05d33183d9493a5c40fbbf6488706f90674c4786"
   },
   "source": [
    "## 2. Test our Model"
   ]
  },
  {
   "cell_type": "markdown",
   "metadata": {
    "_uuid": "eeae16599859c3385a8be958a1a57d01ca2fa6f1"
   },
   "source": [
    "### 2.1 Predict for the ' test ' data provided for competition  \n",
    "Here I've scaled the 'test' data to 'sc_test'"
   ]
  },
  {
   "cell_type": "code",
   "execution_count": null,
   "metadata": {
    "_uuid": "06ea15541ca61e0bf7d8efbacc72baff1da04f30"
   },
   "outputs": [],
   "source": [
    "result = classifier.predict(sc_test)"
   ]
  },
  {
   "cell_type": "markdown",
   "metadata": {
    "_uuid": "cc9a76773a6f3dcab4be523a4ddf41edf47e81d5"
   },
   "source": [
    "### Visualize some Sample Image Prediction from ' test ' data"
   ]
  },
  {
   "cell_type": "code",
   "execution_count": null,
   "metadata": {
    "_uuid": "5159a0b6719d97b7db5c0e24fe7c8bc10ab087fc"
   },
   "outputs": [],
   "source": [
    "a = np.random.randint(1,400,5)\n",
    "for i in a:\n",
    "    two_d = (np.reshape(test[i], (28, 28)) * 255).astype(np.uint8)\n",
    "    plt.title('Predicted Label: {0}'.format(result[i]))\n",
    "    plt.imshow(two_d, interpolation='nearest',cmap='gray')\n",
    "    plt.show()"
   ]
  },
  {
   "cell_type": "markdown",
   "metadata": {
    "_uuid": "817cb8526a16103834667556d1ded95ea9ca8898"
   },
   "source": [
    "## 3. Prepare for Final Submission  \n",
    "\n",
    "### Convert Numpy Array to Pandas Series and provide Column names"
   ]
  },
  {
   "cell_type": "code",
   "execution_count": null,
   "metadata": {
    "_uuid": "51568fe7b309564f38e92921a182736647404e5e"
   },
   "outputs": [],
   "source": [
    "submission = pd.Series(result,name=\"Label\")"
   ]
  },
  {
   "cell_type": "markdown",
   "metadata": {
    "_uuid": "677941a4470cc4f318cf24bf6117eae8eb346223"
   },
   "source": [
    "### Concat ' ImageId ' Column  with the '*submission*' Pandas series"
   ]
  },
  {
   "cell_type": "code",
   "execution_count": null,
   "metadata": {
    "_uuid": "3ddebaff37a5ae49f37adaff48e4174b16123ad5"
   },
   "outputs": [],
   "source": [
    "submission = pd.concat([pd.Series(range(1,28001),name = \"ImageId\"),submission],axis = 1)\n",
    "submission.head()"
   ]
  },
  {
   "cell_type": "markdown",
   "metadata": {
    "_uuid": "3a45c3f9021aed995c048b96c4b4ee570f8329d9"
   },
   "source": [
    "## 3.1 Convert the Pandas Series to CSV file"
   ]
  },
  {
   "cell_type": "code",
   "execution_count": null,
   "metadata": {
    "_kg_hide-input": false,
    "_kg_hide-output": false,
    "_uuid": "c63651f34623ff2df8b3c09707ef889de3110a6e"
   },
   "outputs": [],
   "source": [
    "submission.to_csv(\"final_submission_v1.csv\",index=False)"
   ]
  },
  {
   "cell_type": "markdown",
   "metadata": {
    "_uuid": "3e7b98128b727e3126a688a0f855c97163dc1c9d"
   },
   "source": [
    "### A Simple Tricky Markdown to download Submission file while running your notebook in cloud"
   ]
  },
  {
   "cell_type": "markdown",
   "metadata": {
    "_uuid": "dd6b831e9e93b4f470a365d5f1eb5a4b4d894401"
   },
   "source": [
    "click <a href=\"./final_submission_v1.csv\">here</a> to download the generated submission file"
   ]
  },
  {
   "cell_type": "markdown",
   "metadata": {
    "_uuid": "0065d908c7bbb6d341bc59ea56b626f615b01210"
   },
   "source": [
    "### Verify your submission csv file before submitting it"
   ]
  },
  {
   "cell_type": "code",
   "execution_count": null,
   "metadata": {
    "_uuid": "e18798437879867c5cc98608a563ee41b81116b8"
   },
   "outputs": [],
   "source": [
    "final_submission = pd.read_csv(\"final_submission_v1.csv\")"
   ]
  },
  {
   "cell_type": "code",
   "execution_count": null,
   "metadata": {
    "_kg_hide-output": false,
    "_uuid": "b647063651bc02e251cd6ff30b0bf2b3b2791768"
   },
   "outputs": [],
   "source": [
    "final_submission.head()"
   ]
  },
  {
   "cell_type": "markdown",
   "metadata": {
    "_uuid": "7287fcbcf6edff5c37ffb4eb2c6996cf47066368"
   },
   "source": []
  },
  {
   "cell_type": "code",
   "execution_count": null,
   "metadata": {},
   "outputs": [],
   "source": [
    "X_test.shape"
   ]
  },
  {
   "cell_type": "code",
   "execution_count": null,
   "metadata": {},
   "outputs": [],
   "source": [
    "a=X_test[10].reshape(-1,784)"
   ]
  },
  {
   "cell_type": "code",
   "execution_count": null,
   "metadata": {},
   "outputs": [],
   "source": [
    "p=classifier.predict(a)\n",
    "p[0]"
   ]
  },
  {
   "cell_type": "code",
   "execution_count": null,
   "metadata": {},
   "outputs": [],
   "source": [
    "two_d = (np.reshape(a, (28, 28)) * 255).astype(np.uint8)\n",
    "plt.title('Predicted Label: {0}'.format(p[0]))\n",
    "plt.imshow(two_d, interpolation='nearest',cmap='gray')\n",
    "plt.show()"
   ]
  },
  {
   "cell_type": "code",
   "execution_count": null,
   "metadata": {},
   "outputs": [],
   "source": []
  }
 ],
 "metadata": {
  "kernelspec": {
   "display_name": "Python 3",
   "language": "python",
   "name": "python3"
  },
  "language_info": {
   "codemirror_mode": {
    "name": "ipython",
    "version": 3
   },
   "file_extension": ".py",
   "mimetype": "text/x-python",
   "name": "python",
   "nbconvert_exporter": "python",
   "pygments_lexer": "ipython3",
   "version": "3.7.6"
  }
 },
 "nbformat": 4,
 "nbformat_minor": 1
}
